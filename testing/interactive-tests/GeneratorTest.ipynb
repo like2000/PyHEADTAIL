{
 "metadata": {
  "name": ""
 },
 "nbformat": 3,
 "nbformat_minor": 0,
 "worksheets": [
  {
   "cells": [
    {
     "cell_type": "code",
     "collapsed": false,
     "input": [
      "import sys, os\n",
      "BIN = os.path.expanduser(\"~/cern/git/PyHEADTAIL-new/\")\n",
      "sys.path.append(BIN)"
     ],
     "language": "python",
     "metadata": {},
     "outputs": [],
     "prompt_number": 1
    },
    {
     "cell_type": "code",
     "collapsed": false,
     "input": [
      "import numpy as np\n",
      "from scipy.constants import m_p, c, e"
     ],
     "language": "python",
     "metadata": {},
     "outputs": [],
     "prompt_number": 2
    },
    {
     "cell_type": "code",
     "collapsed": false,
     "input": [
      "from   PyHEADTAIL.particles.particles import Particles\n",
      "import PyHEADTAIL.particles.generators as generators\n",
      "from PyHEADTAIL.trackers.transverse_tracking import TransverseMap\n",
      "from PyHEADTAIL.trackers.simple_long_tracking import RFSystems, LinearMap"
     ],
     "language": "python",
     "metadata": {},
     "outputs": [
      {
       "output_type": "stream",
       "stream": "stdout",
       "text": [
        "PyHEADTAIL v1.0.0\n",
        "\n",
        "\n"
       ]
      }
     ],
     "prompt_number": 3
    },
    {
     "cell_type": "code",
     "collapsed": false,
     "input": [
      "import matplotlib.pyplot as plt"
     ],
     "language": "python",
     "metadata": {},
     "outputs": [],
     "prompt_number": 4
    },
    {
     "cell_type": "code",
     "collapsed": false,
     "input": [
      "# general simulation parameters\n",
      "n_turns = 20000\n",
      "n_particles = 10000\n",
      "n_segments = 1\n",
      "\n",
      "# machine parameters\n",
      "circumference = 157.\n",
      "inj_alpha_x = 0\n",
      "inj_alpha_y = 0\n",
      "inj_beta_x = 5.9 # in [m]\n",
      "inj_beta_y = 5.7 # in [m]\n",
      "Qx = 5.1\n",
      "Qy = 6.1\n",
      "gamma_tr = 4.05\n",
      "alpha_c_array = [gamma_tr**-2]\n",
      "V_rf = 8e3 # in [V]\n",
      "harmonic = 1\n",
      "phi_offset = 0 # measured from aligned focussing phase (0 or pi)\n",
      "pipe_radius = 5e-2\n",
      "\n",
      "# beam parameters\n",
      "Ekin = 1.4e9 # in [eV]\n",
      "intensity = 1.684e12\n",
      "epsn_x = 2.5e-6 # in [m*rad]\n",
      "epsn_y = 2.5e-6 # in [m*rad]\n",
      "epsn_z = 1.2 # 4pi*sig_z*sig_dp (*p0/e) in [eVs]\n",
      "\n",
      "# calculations\n",
      "gamma = 1 + e * Ekin / (m_p * c**2)\n",
      "beta = np.sqrt(1 - gamma**-2)\n",
      "eta = alpha_c_array[0] - gamma**-2\n",
      "if eta < 0:\n",
      "    phi_offset = np.pi - phi_offset\n",
      "Etot = gamma * m_p * c**2 / e\n",
      "p0 = np.sqrt(gamma**2 - 1) * m_p * c\n",
      "Qs = np.sqrt(np.abs(eta) * V_rf / (2 * np.pi * beta**2 * Etot))\n",
      "beta_z = np.abs(eta) * circumference / (2 * np.pi * Qs)\n",
      "turn_period = circumference / (beta * c)\n",
      "\n",
      "# BETATRON\n",
      "# Loop on number of segments and create the TransverseSegmentMap\n",
      "# for each segment.\n",
      "s = np.arange(0, n_segments + 1) * circumference / n_segments\n",
      "alpha_x = inj_alpha_x * np.ones(n_segments)\n",
      "beta_x  = inj_beta_x * np.ones(n_segments)\n",
      "D_x     = np.zeros(n_segments)\n",
      "alpha_y = inj_alpha_y * np.ones(n_segments)\n",
      "beta_y  = inj_beta_y * np.ones(n_segments)\n",
      "D_y     = np.zeros(n_segments)"
     ],
     "language": "python",
     "metadata": {},
     "outputs": [],
     "prompt_number": 5
    },
    {
     "cell_type": "code",
     "collapsed": false,
     "input": [
      "def plot_phase_space(bunch):\n",
      "    fig, (ax0, ax1, ax2) = plt.subplots(3, 1)\n",
      "    # phase spaces\n",
      "    ax0.scatter(bunch.x, bunch.xp)\n",
      "    ax1.scatter(bunch.y, bunch.yp)\n",
      "    ax2.scatter(bunch.z, bunch.dp)\n",
      "    # statistical quantities\n",
      "    ax0.scatter(bunch.mean_x(), bunch.mean_xp(), color='red')\n",
      "    ax1.scatter(bunch.mean_y(), bunch.mean_yp(), color='red')\n",
      "    ax2.scatter(bunch.mean_z(), bunch.mean_dp(), color='red')\n",
      "    plt.show()"
     ],
     "language": "python",
     "metadata": {},
     "outputs": [],
     "prompt_number": 6
    },
    {
     "cell_type": "code",
     "collapsed": false,
     "input": [
      "bunch = generators.Gaussian6DTwiss( # implicitly tests Gaussian and Gaussian2DTwiss as well\n",
      "    n_particles, intensity, e, m_p, circumference, gamma,\n",
      "    inj_alpha_x, inj_beta_x, epsn_x,\n",
      "    inj_alpha_y, inj_beta_y, epsn_y, \n",
      "    beta_z, epsn_z\n",
      "    ).generate()\n",
      "plot_phase_space(bunch)"
     ],
     "language": "python",
     "metadata": {},
     "outputs": [],
     "prompt_number": 7
    },
    {
     "cell_type": "code",
     "collapsed": false,
     "input": [
      "# Gaussian6D"
     ],
     "language": "python",
     "metadata": {},
     "outputs": [],
     "prompt_number": 8
    },
    {
     "cell_type": "code",
     "collapsed": false,
     "input": [
      "bunch = generators.ImportDistribution(\n",
      "    n_particles, intensity, e, m_p, circumference, gamma,\n",
      "    bunch.get_coords_n_momenta_dict()\n",
      "    ).generate()\n",
      "plot_phase_space(bunch)"
     ],
     "language": "python",
     "metadata": {},
     "outputs": [],
     "prompt_number": 9
    },
    {
     "cell_type": "code",
     "collapsed": false,
     "input": [
      "bunch = generators.Uniform3D(\n",
      "    n_particles, intensity, e, m_p, circumference, gamma,\n",
      "    2e-3, 2e-3, 30\n",
      "    ).generate()\n",
      "plot_phase_space(bunch)"
     ],
     "language": "python",
     "metadata": {},
     "outputs": [],
     "prompt_number": 10
    },
    {
     "cell_type": "code",
     "collapsed": false,
     "input": [
      "transverse = TransverseMap(circumference, s, alpha_x, beta_x, D_x, alpha_y,\n",
      "                           beta_y, D_y, Qx, Qy)\n",
      "longitudinal = LinearMap(alpha_c_array, circumference, Qs)"
     ],
     "language": "python",
     "metadata": {},
     "outputs": [],
     "prompt_number": 11
    },
    {
     "cell_type": "code",
     "collapsed": false,
     "input": [
      "bunch = generators.MatchGaussian6D( # implicitly tests MatchLinearLongMap and MatchTransverseMap\n",
      "    n_particles, intensity, e, m_p, circumference, gamma,\n",
      "    transverse, epsn_x, epsn_y, longitudinal, epsn_z\n",
      "    ).generate()\n",
      "plot_phase_space(bunch)"
     ],
     "language": "python",
     "metadata": {},
     "outputs": [],
     "prompt_number": 12
    },
    {
     "cell_type": "code",
     "collapsed": false,
     "input": [
      "rfsystems = RFSystems(circumference, [harmonic], [V_rf], [phi_offset],\n",
      "                      alpha_c_array, gamma)"
     ],
     "language": "python",
     "metadata": {},
     "outputs": [],
     "prompt_number": 13
    },
    {
     "cell_type": "code",
     "collapsed": false,
     "input": [
      "bunch = generators.MatchRFBucket6D( # implicitly tests MatchRFBucket2D and MatchTransverseMap\n",
      "    n_particles, intensity, e, m_p, circumference, gamma,\n",
      "    transverse, epsn_x, epsn_y, rfsystems.rfbucket, epsn_z\n",
      "    ).generate()\n",
      "plot_phase_space(bunch)"
     ],
     "language": "python",
     "metadata": {},
     "outputs": [
      {
       "output_type": "stream",
       "stream": "stdout",
       "text": [
        "\n",
        "*** Maximum RMS emittance 4.76186429682 eV s.\n",
        "... distance to target emittance:"
       ]
      },
      {
       "output_type": "stream",
       "stream": "stdout",
       "text": [
        " 0.286025924213\n",
        "... distance to target emittance:"
       ]
      },
      {
       "output_type": "stream",
       "stream": "stdout",
       "text": [
        " 0.286280731494\n",
        "... distance to target emittance:"
       ]
      },
      {
       "output_type": "stream",
       "stream": "stdout",
       "text": [
        " -0.00155969354539\n",
        "\n",
        "--> Emittance:"
       ]
      },
      {
       "output_type": "stream",
       "stream": "stdout",
       "text": [
        " 1.20000256448\n",
        "--> Bunch length: 12.0228252955\n"
       ]
      }
     ],
     "prompt_number": 14
    },
    {
     "cell_type": "code",
     "collapsed": false,
     "input": [
      "bunch = generators.Gaussian6DTwiss(\n",
      "    n_particles, intensity, e, m_p, circumference, gamma,\n",
      "    inj_alpha_x, inj_beta_x, epsn_x,\n",
      "    inj_alpha_y, inj_beta_y, epsn_y, beta_z, epsn_z\n",
      "    ).generate()\n",
      "generators.MatchRFBucket2D(\n",
      "    n_particles, intensity, e, m_p, circumference, gamma,\n",
      "    rfsystems.rfbucket, epsn_z=epsn_z\n",
      "    ).update(bunch)\n",
      "plot_phase_space(bunch)"
     ],
     "language": "python",
     "metadata": {},
     "outputs": [
      {
       "output_type": "stream",
       "stream": "stdout",
       "text": [
        "\n",
        "*** Maximum RMS emittance 4.76186429682 eV s.\n",
        "... distance to target emittance:"
       ]
      },
      {
       "output_type": "stream",
       "stream": "stdout",
       "text": [
        " 0.286025924213\n",
        "... distance to target emittance:"
       ]
      },
      {
       "output_type": "stream",
       "stream": "stdout",
       "text": [
        " 0.286280731494\n",
        "... distance to target emittance:"
       ]
      },
      {
       "output_type": "stream",
       "stream": "stdout",
       "text": [
        " -0.00155969354539\n",
        "\n",
        "--> Emittance:"
       ]
      },
      {
       "output_type": "stream",
       "stream": "stdout",
       "text": [
        " 1.20000256448\n",
        "--> Bunch length: 12.0228252955\n"
       ]
      }
     ],
     "prompt_number": 15
    },
    {
     "cell_type": "code",
     "collapsed": false,
     "input": [
      "coords_n_momenta_dict = bunch.get_coords_n_momenta_dict()\n",
      "coords_n_momenta_dict['x'] = np.append(coords_n_momenta_dict['x'], 0)\n",
      "try:\n",
      "    bunch = generators.ImportDistribution(\n",
      "        n_particles, intensity, e, m_p, circumference, gamma,\n",
      "        coords_n_momenta_dict\n",
      "        ).generate()\n",
      "    print ('test FAILED. Expected ValueError was not raised!')\n",
      "except ValueError as exc:\n",
      "    print ('test passed.\\n')\n",
      "    print ('Error message:\\n' + exc.message)"
     ],
     "language": "python",
     "metadata": {},
     "outputs": [
      {
       "output_type": "stream",
       "stream": "stdout",
       "text": [
        "test passed.\n",
        "\n",
        "Error message:\n",
        "lengths of given phase space coordinate arrays do not coincide with self.macroparticlenumber.\n"
       ]
      }
     ],
     "prompt_number": 16
    },
    {
     "cell_type": "code",
     "collapsed": false,
     "input": [],
     "language": "python",
     "metadata": {},
     "outputs": []
    }
   ],
   "metadata": {}
  }
 ]
}