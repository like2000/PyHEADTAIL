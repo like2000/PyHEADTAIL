{
 "metadata": {
  "name": "",
  "signature": "sha256:7874c101384e50b52bc44e7d800051f0e5bb07b5e5683ad8a613e0820a62659b"
 },
 "nbformat": 3,
 "nbformat_minor": 0,
 "worksheets": [
  {
   "cells": [
    {
     "cell_type": "code",
     "collapsed": false,
     "input": [
      "import sys, os\n",
      "BIN = os.path.expanduser(\"~/cern/git/PyHEADTAIL-new/\")\n",
      "sys.path.append(BIN)"
     ],
     "language": "python",
     "metadata": {},
     "outputs": [],
     "prompt_number": 1
    },
    {
     "cell_type": "code",
     "collapsed": false,
     "input": [
      "import numpy as np\n",
      "from scipy.constants import m_p, c, e\n",
      "import matplotlib.pyplot as plt\n",
      "\n",
      "from PyHEADTAIL.particles.particles import Particles\n",
      "import PyHEADTAIL.particles.generators as generators\n",
      "from PyHEADTAIL.particles.slicing import UniformBinSlicer, UniformChargeSlicer, ModeIsNotUniformBin, ModeIsUniformCharge"
     ],
     "language": "python",
     "metadata": {},
     "outputs": [
      {
       "output_type": "stream",
       "stream": "stdout",
       "text": [
        "PyHEADTAIL v1.0.0\n",
        "\n",
        "\n"
       ]
      }
     ],
     "prompt_number": 2
    },
    {
     "cell_type": "code",
     "collapsed": false,
     "input": [
      "# HELPERS\n",
      "\n",
      "def plot_slice_set_structure(axes, bunch, slice_set):\n",
      "    '''Plot basic structure of SliceSet - z_bins, z_centers,\n",
      "    n_macroparticles_per_slice.\n",
      "    '''\n",
      "    [axes.axvline(z, c='b', lw=2) for z in slice_set.z_bins[1:]]\n",
      "    axes.axvline(slice_set.z_bins[0], c='b', lw=2,\n",
      "                 label='z_bins')\n",
      "    [axes.axvline(z, c='b', ls='dashed') for z in\n",
      "        slice_set.z_centers[1:]]\n",
      "    axes.axvline(slice_set.z_centers[0], c='b', ls='dashed',\n",
      "                 label='z_centers')\n",
      "    axes.plot(slice_set.z_centers,\n",
      "              slice_set.n_macroparticles_per_slice,\n",
      "              'x', color='black', ms=10, mew=2,\n",
      "              label='z_centers vs. n_macroparticles')\n",
      "    y_up =  max(slice_set.n_macroparticles_per_slice)\n",
      "    y_up += 0.1 * y_up\n",
      "    axes.set_ylim((0,y_up))\n",
      "    axes.set_xlim(((1+0.1) * min(bunch.z), (1+0.1) * max(bunch.z)))\n",
      "\n",
      "def plot_particle_indices_of_slice(axes, bunch, slice_set):\n",
      "    '''Show all particles in a z vs. slice_index plot. Add SliceSet\n",
      "    and slice boundaries. particles_within_cuts are overlayed\n",
      "    to see if they have been correctly determined.\n",
      "    '''\n",
      "    z_cut_tail = slice_set.z_cut_tail\n",
      "    z_cut_head = slice_set.z_cut_head\n",
      "    part_in_cuts = slice_set.particles_within_cuts\n",
      "    six = slice_set.slice_index_of_particle\n",
      "\n",
      "    axes.plot(six, bunch.z, '.r', ms=12, label='All particles')\n",
      "    axes.plot(six.take(part_in_cuts), bunch.z.take(part_in_cuts), '.g',\n",
      "             label='particles_within_cuts')\n",
      "    axes.axhline(z_cut_tail, color='b', ls='dashed',\n",
      "                label='SliceSet boundaries')\n",
      "    axes.axhline(z_cut_head, color='b', ls='dashed')\n",
      "    [axes.axhline(z, color='b', ls='dashed') for z in\n",
      "        slice_set.z_bins]\n",
      "    axes.axvline(0, color='m', label='slices 0 and n-1')\n",
      "    axes.axvline(slice_set.n_slices-1, color='m')\n",
      "    axes.set_xlim((min(slice_set.slice_index_of_particle)-1,\n",
      "                   max(slice_set.slice_index_of_particle)+1))\n",
      "    axes.legend(loc='lower right')\n",
      "\n",
      "def test_particle_indices_of_slice(bunch, slice_set):\n",
      "    '''Get particle_indices_of_slice for specific slice index. Apply\n",
      "    'inverse function' slice_index_of_particle to get back slice_index\n",
      "    if everything works correctly.\n",
      "    '''\n",
      "    all_pass = True\n",
      "    for i in xrange(slice_set.n_slices):\n",
      "        pix_slice = slice_set.particle_indices_of_slice(i)\n",
      "        six_pix = slice_set.slice_index_of_particle[pix_slice]\n",
      "        if (six_pix != i).any():\n",
      "            all_pass = False\n",
      "\n",
      "    if all_pass:\n",
      "        print ('  Particle_indices_of_slice <-> slice_index_of_particle PASSED')\n",
      "    if not all_pass:\n",
      "        print ('  Particle_indices_of_slice and slice_index_of_particle FAILED')\n",
      "\n",
      "def slice_set_statistics(bunch, slice_set):\n",
      "    '''Test if statistics functions are executable. No value\n",
      "    checking\n",
      "    '''\n",
      "    slice_set.mean_x(bunch)\n",
      "    slice_set.sigma_x(bunch)\n",
      "    slice_set.epsn_x(bunch)\n",
      "    slice_set.mean_y(bunch)\n",
      "    slice_set.sigma_y(bunch)\n",
      "    slice_set.epsn_y(bunch)\n",
      "    slice_set.mean_z(bunch)\n",
      "    slice_set.sigma_z(bunch)\n",
      "    slice_set.epsn_z(bunch)\n",
      "    \n",
      "def plot_results_uniform_bin(bunch, uniform_bin_slice_set):\n",
      "    # Plot environment\n",
      "    fig = plt.figure(figsize=(12,12))\n",
      "    ax1 = fig.add_subplot(211)\n",
      "    ax2 = fig.add_subplot(212)\n",
      "\n",
      "    plot_slice_set_structure(axes=ax1, bunch=bunch,\n",
      "                             slice_set=uniform_bin_slice_set)\n",
      "    if n_sigma_z == None:\n",
      "        ax1.hist(bunch.z, uniform_bin_slice_set.n_slices, color='r', alpha=0.6,\n",
      "                 label='matplotlib hist')\n",
      "    ax1.legend(loc='lower left')\n",
      "\n",
      "    plot_particle_indices_of_slice(axes=ax2, bunch=bunch,\n",
      "                                   slice_set=uniform_bin_slice_set)\n",
      "\n",
      "    ax1.set_xlabel('z [m]')\n",
      "    ax1.set_ylabel('# macroparticles')\n",
      "    ax2.set_xlabel('slice index')\n",
      "    ax2.set_ylabel('z [m]')\n",
      "    plt.show()\n",
      "    \n",
      "def plot_results_uniform_charge(bunch, uniform_charge_slice_set):\n",
      "    # Plot environment\n",
      "    fig = plt.figure(figsize=(12,12))\n",
      "    ax1 = fig.add_subplot(211)\n",
      "    ax2 = fig.add_subplot(212)\n",
      "\n",
      "    plot_slice_set_structure(axes=ax1, bunch=bunch,\n",
      "                             slice_set=uniform_charge_slice_set)\n",
      "\n",
      "    n_particles_within_cuts = len(uniform_charge_slice_set.particles_within_cuts)\n",
      "    ax1.axhline(n_particles_within_cuts / float(uniform_charge_slice_set.n_slices),\n",
      "                c='r', ls='dashed', lw=2,\n",
      "                label='expected number of particles per slice')\n",
      "    ax1.legend(loc='lower left')\n",
      "\n",
      "    plot_particle_indices_of_slice(axes=ax2, bunch=bunch,\n",
      "                                   slice_set=uniform_charge_slice_set)\n",
      "\n",
      "    ax1.set_xlabel('z [m]')\n",
      "    ax1.set_ylabel('# macroparticles')\n",
      "    ax2.set_xlabel('slice index')\n",
      "    ax2.set_ylabel('z [m]')\n",
      "    plt.show()\n",
      "\n",
      "def call_slice_set_attributes(bunch, slice_set):\n",
      "    # Call all the properties / attributes / methods.\n",
      "    print 'z_cut_head', slice_set.z_cut_head\n",
      "    print 'z_cut_tail', slice_set.z_cut_tail\n",
      "    print 'z_centers', slice_set.z_centers\n",
      "    print 'n_slices', slice_set.n_slices\n",
      "    print 'slice_widths', slice_set.slice_widths\n",
      "    print 'slice_positions', slice_set.slice_positions\n",
      "    print 'n_macroparticles_per_slice', slice_set.n_macroparticles_per_slice\n",
      "    print 'particles_within_cuts', slice_set.particles_within_cuts\n",
      "    print 'particle_indices_by_slice', slice_set.particle_indices_by_slice\n",
      "\n",
      "    test_particle_indices_of_slice(bunch, slice_set)\n",
      "    slice_set_statistics(bunch, slice_set)\n",
      "\n",
      "    print 'line_density_derivative_gauss', slice_set.line_density_derivative_gauss()\n",
      "    print 'line_density_derivative', slice_set.line_density_derivative()\n",
      "\n",
      "    \n",
      "def call_slicer_attributes():\n",
      "    pass\n",
      "\n",
      "def clean_bunch(bunch):\n",
      "    bunch.clean_slices()"
     ],
     "language": "python",
     "metadata": {
      "slideshow": {
       "slide_type": "-"
      }
     },
     "outputs": [],
     "prompt_number": 3
    },
    {
     "cell_type": "code",
     "collapsed": false,
     "input": [
      "# Basic parameters.\n",
      "n_macroparticles = 500\n",
      "\n",
      "Q_x = 64.28\n",
      "Q_y = 59.31\n",
      "Q_s = 0.0020443\n",
      "\n",
      "C = 26658.883\n",
      "R = C / (2.*np.pi)\n",
      "\n",
      "alpha_x_inj = 0.\n",
      "alpha_y_inj = 0.\n",
      "beta_x_inj = 66.0064\n",
      "beta_y_inj = 71.5376\n",
      "alpha_0 = [0.0003225]"
     ],
     "language": "python",
     "metadata": {},
     "outputs": [],
     "prompt_number": 4
    },
    {
     "cell_type": "code",
     "collapsed": false,
     "input": [
      "# general simulation parameters\n",
      "n_particles = 10000\n",
      "\n",
      "# machine parameters\n",
      "circumference = 157.\n",
      "inj_alpha_x = 0\n",
      "inj_alpha_y = 0\n",
      "inj_beta_x = 5.9 # in [m]\n",
      "inj_beta_y = 5.7 # in [m]\n",
      "Qx = 5.1\n",
      "Qy = 6.1\n",
      "gamma_tr = 4.05\n",
      "alpha_c_array = [gamma_tr**-2]\n",
      "V_rf = 8e3 # in [V]\n",
      "harmonic = 1\n",
      "phi_offset = 0 # measured from aligned focussing phase (0 or pi)\n",
      "pipe_radius = 5e-2\n",
      "\n",
      "# beam parameters\n",
      "Ekin = 1.4e9 # in [eV]\n",
      "intensity = 1.684e12\n",
      "epsn_x = 2.5e-6 # in [m*rad]\n",
      "epsn_y = 2.5e-6 # in [m*rad]\n",
      "epsn_z = 1.2 # 4pi*sig_z*sig_dp (*p0/e) in [eVs]\n",
      "\n",
      "# calculations\n",
      "gamma = 1 + e * Ekin / (m_p * c**2)\n",
      "beta = np.sqrt(1 - gamma**-2)\n",
      "eta = alpha_c_array[0] - gamma**-2\n",
      "if eta < 0:\n",
      "    phi_offset = np.pi - phi_offset\n",
      "Etot = gamma * m_p * c**2 / e\n",
      "p0 = np.sqrt(gamma**2 - 1) * m_p * c\n",
      "Qs = np.sqrt(np.abs(eta) * V_rf / (2 * np.pi * beta**2 * Etot))\n",
      "beta_z = np.abs(eta) * circumference / (2 * np.pi * Qs)\n",
      "turn_period = circumference / (beta * c)\n",
      "\n",
      "bunch = generators.Gaussian6DTwiss( # implicitly tests Gaussian and Gaussian2DTwiss as well\n",
      "    n_particles, intensity, e, m_p, circumference, gamma,\n",
      "    inj_alpha_x, inj_beta_x, epsn_x,\n",
      "    inj_alpha_y, inj_beta_y, epsn_y, \n",
      "    beta_z, epsn_z\n",
      "    ).generate()"
     ],
     "language": "python",
     "metadata": {},
     "outputs": [],
     "prompt_number": 5
    },
    {
     "cell_type": "code",
     "collapsed": false,
     "input": [
      "# Call all the properties / attributes of the SliceSet and Slicer.\n",
      "# Note that most of them are also called and actually checked for\n",
      "# their values in the visual checks below.\n",
      "# particle_indices_of_slice and slice_index_of_particle are checked\n",
      "# by the method test_particle_indices_of_slice(bunch, slice_set).\n",
      "# Stats are checked by method slice_set_statistics(bunch, slice_set)."
     ],
     "language": "python",
     "metadata": {},
     "outputs": [],
     "prompt_number": 6
    },
    {
     "cell_type": "code",
     "collapsed": false,
     "input": [
      "# Uniform bin slicer\n",
      "n_slices = 10\n",
      "n_sigma_z = 2\n",
      "uniform_bin_slicer = UniformBinSlicer(n_slices, n_sigma_z)\n",
      "\n",
      "# Request slice_set from bunch with the uniform_bin_slicer config.\n",
      "print 'bunch._slice_sets', bunch._slice_sets\n",
      "uniform_bin_slice_set = bunch.get_slices(uniform_bin_slicer)\n",
      "print 'bunch._slice_sets', bunch._slice_sets\n",
      "\n",
      "print '\\n UNIFORM BIN SLICE SET, NSIGMAZ=2, 10 SLICES \\n'\n",
      "print 'slicer.config', uniform_bin_slicer.config\n",
      "call_slice_set_attributes(bunch, uniform_bin_slice_set)\n",
      "#call_slicer_attributes(uniform_bin_slice_set)\n",
      "\n",
      "# Let bunch remove the slice_set.\n",
      "bunch.clean_slices()\n",
      "print 'bunch._slice_sets', bunch._slice_sets"
     ],
     "language": "python",
     "metadata": {},
     "outputs": [
      {
       "output_type": "stream",
       "stream": "stdout",
       "text": [
        "bunch._slice_sets {}\n",
        "bunch._slice_sets {<PyHEADTAIL.particles.slicing.UniformBinSlicer object at 0x7fc1f0339b50>: <PyHEADTAIL.particles.slicing.SliceSet object at 0x7fc1f0339cd0>}\n",
        "\n",
        " UNIFORM BIN SLICE SET, NSIGMAZ=2, 10 SLICES \n",
        "\n",
        "slicer.config ('uniform_bin', 10, 2, None)\n",
        "z_cut_head 22.7270974118\n",
        "z_cut_tail -22.7603213275\n",
        "z_centers [-20.48595039 -15.93720852 -11.38846664  -6.83972477  -2.29098289\n",
        "   2.25775898   6.80650085  11.35524273  15.9039846   20.45272647]\n",
        "n_slices 10\n",
        "slice_widths [ 4.54874187  4.54874187  4.54874187  4.54874187  4.54874187  4.54874187\n",
        "  4.54874187  4.54874187  4.54874187  4.54874187]\n",
        "slice_positions [   0  327  920 1925 3243 4800 6297 7637 8651 9238 9562]\n",
        "n_macroparticles_per_slice [ 327  593 1005 1318 1557 1497 1340 1014  587  324]\n",
        "particles_within_cuts [   0    1    2 ..., 9997 9998 9999]\n",
        "particle_indices_by_slice [   0    5    8 ..., 9954 9974 9978]\n",
        "  Particle_indices_of_slice <-> slice_index_of_particle PASSED\n",
        "line_density_derivative_gauss [ 58.47733421  74.41614116  79.58235529  60.67603595  19.67576082\n",
        " -23.85269615 -53.09160473 -82.66008312 -75.73518639 -57.81781856]\n",
        "line_density_derivative [ 58.4777082   74.52610181  79.6923655   60.67611829  19.67577024\n",
        " -23.8527494  -53.0916035  -82.77013962 -75.84514786 -57.81818518]\n",
        "bunch._slice_sets {}\n"
       ]
      }
     ],
     "prompt_number": 7
    },
    {
     "cell_type": "code",
     "collapsed": false,
     "input": [
      "# Uniform charge slicer\n",
      "n_slices = 10\n",
      "n_sigma_z = 2\n",
      "\n",
      "clean_bunch(bunch)\n",
      "\n",
      "uniform_charge_slicer = UniformChargeSlicer(n_slices, n_sigma_z)\n",
      "uniform_charge_slice_set = bunch.get_slices(uniform_charge_slicer)\n",
      "\n",
      "print uniform_charge_slice_set.mode\n",
      "\n",
      "print '\\n UNIFORM CHARGE SLICE SET, NSIGMAZ=2, 10 SLICES \\n'\n",
      "print 'slicer.config', uniform_charge_slicer.config\n",
      "\n",
      "call_slice_set_attributes(bunch, uniform_charge_slice_set)\n"
     ],
     "language": "python",
     "metadata": {},
     "outputs": [
      {
       "ename": "ModeIsNotUniformBin",
       "evalue": "This SliceSet has self.mode not set to 'uniform_bin'!",
       "output_type": "pyerr",
       "traceback": [
        "\u001b[0;31m---------------------------------------------------------------------------\u001b[0m\n\u001b[0;31mModeIsNotUniformBin\u001b[0m                       Traceback (most recent call last)",
        "\u001b[0;32m<ipython-input-8-f8d8147b1e0d>\u001b[0m in \u001b[0;36m<module>\u001b[0;34m()\u001b[0m\n\u001b[1;32m     13\u001b[0m \u001b[0;32mprint\u001b[0m \u001b[0;34m'slicer.config'\u001b[0m\u001b[0;34m,\u001b[0m \u001b[0muniform_charge_slicer\u001b[0m\u001b[0;34m.\u001b[0m\u001b[0mconfig\u001b[0m\u001b[0;34m\u001b[0m\u001b[0m\n\u001b[1;32m     14\u001b[0m \u001b[0;34m\u001b[0m\u001b[0m\n\u001b[0;32m---> 15\u001b[0;31m \u001b[0mcall_slice_set_attributes\u001b[0m\u001b[0;34m(\u001b[0m\u001b[0mbunch\u001b[0m\u001b[0;34m,\u001b[0m \u001b[0muniform_charge_slice_set\u001b[0m\u001b[0;34m)\u001b[0m\u001b[0;34m\u001b[0m\u001b[0m\n\u001b[0m",
        "\u001b[0;32m<ipython-input-3-a5e3ac6dc425>\u001b[0m in \u001b[0;36mcall_slice_set_attributes\u001b[0;34m(bunch, slice_set)\u001b[0m\n\u001b[1;32m    137\u001b[0m     \u001b[0mslice_set_statistics\u001b[0m\u001b[0;34m(\u001b[0m\u001b[0mbunch\u001b[0m\u001b[0;34m,\u001b[0m \u001b[0mslice_set\u001b[0m\u001b[0;34m)\u001b[0m\u001b[0;34m\u001b[0m\u001b[0m\n\u001b[1;32m    138\u001b[0m \u001b[0;34m\u001b[0m\u001b[0m\n\u001b[0;32m--> 139\u001b[0;31m     \u001b[0;32mprint\u001b[0m \u001b[0;34m'line_density_derivative_gauss'\u001b[0m\u001b[0;34m,\u001b[0m \u001b[0mslice_set\u001b[0m\u001b[0;34m.\u001b[0m\u001b[0mline_density_derivative_gauss\u001b[0m\u001b[0;34m(\u001b[0m\u001b[0;34m)\u001b[0m\u001b[0;34m\u001b[0m\u001b[0m\n\u001b[0m\u001b[1;32m    140\u001b[0m     \u001b[0;32mprint\u001b[0m \u001b[0;34m'line_density_derivative'\u001b[0m\u001b[0;34m,\u001b[0m \u001b[0mslice_set\u001b[0m\u001b[0;34m.\u001b[0m\u001b[0mline_density_derivative\u001b[0m\u001b[0;34m(\u001b[0m\u001b[0;34m)\u001b[0m\u001b[0;34m\u001b[0m\u001b[0m\n\u001b[1;32m    141\u001b[0m \u001b[0;34m\u001b[0m\u001b[0m\n",
        "\u001b[0;32m/home/oeftiger/cern/git/PyHEADTAIL-new/PyHEADTAIL/particles/slicing.py\u001b[0m in \u001b[0;36mline_density_derivative_gauss\u001b[0;34m(self, sigma, smoothen_before, smoothen_after)\u001b[0m\n\u001b[1;32m    150\u001b[0m         '''\n\u001b[1;32m    151\u001b[0m         \u001b[0;32mif\u001b[0m \u001b[0mself\u001b[0m\u001b[0;34m.\u001b[0m\u001b[0mmode\u001b[0m \u001b[0;32mis\u001b[0m \u001b[0;32mnot\u001b[0m \u001b[0;34m'uniform_bin'\u001b[0m\u001b[0;34m:\u001b[0m\u001b[0;34m\u001b[0m\u001b[0m\n\u001b[0;32m--> 152\u001b[0;31m             \u001b[0;32mraise\u001b[0m \u001b[0mModeIsNotUniformBin\u001b[0m\u001b[0;34m(\u001b[0m\u001b[0;34m)\u001b[0m\u001b[0;34m\u001b[0m\u001b[0m\n\u001b[0m\u001b[1;32m    153\u001b[0m         \u001b[0;32mif\u001b[0m \u001b[0msigma\u001b[0m \u001b[0;32mis\u001b[0m \u001b[0mNone\u001b[0m\u001b[0;34m:\u001b[0m\u001b[0;34m\u001b[0m\u001b[0m\n\u001b[1;32m    154\u001b[0m             \u001b[0msigma\u001b[0m \u001b[0;34m=\u001b[0m \u001b[0;36m0.02\u001b[0m \u001b[0;34m*\u001b[0m \u001b[0mself\u001b[0m\u001b[0;34m.\u001b[0m\u001b[0mn_slices\u001b[0m\u001b[0;34m\u001b[0m\u001b[0m\n",
        "\u001b[0;31mModeIsNotUniformBin\u001b[0m: This SliceSet has self.mode not set to 'uniform_bin'!"
       ]
      },
      {
       "output_type": "stream",
       "stream": "stdout",
       "text": [
        "uniform_charge\n",
        "\n",
        " UNIFORM CHARGE SLICE SET, NSIGMAZ=2, 10 SLICES \n",
        "\n",
        "slicer.config ('uniform_charge', 10, 2, None)\n",
        "z_cut_head 22.7270974118\n",
        "z_cut_tail -22.7603213275\n",
        "z_centers [-18.06471065 -11.27538451  -7.49836656  -4.30225081  -1.42338995\n",
        "   1.39610138   4.25926056   7.41045451  11.28493734  18.07251954]\n",
        "n_slices 10\n",
        "slice_widths [ 9.39122136  4.18743091  3.366605    3.02562648  2.73209524  2.90688743\n",
        "  2.81943093  3.48295698  4.26600867  9.30915573]\n",
        "slice_positions [   0  956 1912 2868 3825 4781 5737 6693 7649 8606 9562]\n",
        "n_macroparticles_per_slice [956 956 956 957 956 956 956 956 957 956]\n",
        "particles_within_cuts [   0    1    2 ..., 9997 9998 9999]\n",
        "particle_indices_by_slice [   0    5    8 ..., 9989 9996 9999]\n",
        "  Particle_indices_of_slice <-> slice_index_of_particle PASSED\n",
        "line_density_derivative_gauss"
       ]
      }
     ],
     "prompt_number": 8
    },
    {
     "cell_type": "code",
     "collapsed": false,
     "input": [
      "# Other cases. When are slicers equal?\n",
      "n_slices = 10\n",
      "n_sigma_z = 2\n",
      "uniform_bin_slicer = UniformBinSlicer(n_slices, n_sigma_z)\n",
      "uniform_charge_slicer = UniformChargeSlicer(n_slices, n_sigma_z)\n",
      "\n",
      "uniform_charge_slicer == uniform_bin_slicer"
     ],
     "language": "python",
     "metadata": {},
     "outputs": [
      {
       "metadata": {},
       "output_type": "pyout",
       "prompt_number": 9,
       "text": [
        "False"
       ]
      },
      {
       "output_type": "stream",
       "stream": "stdout",
       "text": [
        "\n"
       ]
      }
     ],
     "prompt_number": 9
    },
    {
     "cell_type": "code",
     "collapsed": false,
     "input": [
      "# Other cases. When are slicers equal?\n",
      "n_slices = 10\n",
      "n_sigma_z = 2\n",
      "uniform_bin_slicer = UniformBinSlicer(n_slices, n_sigma_z)\n",
      "uniform_bin_slicer_2 = UniformBinSlicer(n_slices, n_sigma_z)\n",
      "\n",
      "uniform_bin_slicer_2 == uniform_bin_slicer"
     ],
     "language": "python",
     "metadata": {},
     "outputs": [
      {
       "metadata": {},
       "output_type": "pyout",
       "prompt_number": 10,
       "text": [
        "True"
       ]
      }
     ],
     "prompt_number": 10
    },
    {
     "cell_type": "code",
     "collapsed": false,
     "input": [
      "# Does bunch slice_set management work?\n",
      "n_slices = 10\n",
      "n_sigma_z = 2\n",
      "\n",
      "clean_bunch(bunch)\n",
      "\n",
      "uniform_charge_slicer = UniformChargeSlicer(n_slices, n_sigma_z)\n",
      "uniform_bin_slicer = UniformBinSlicer(n_slices, n_sigma_z)\n",
      "\n",
      "print bunch._slice_sets\n",
      "uniform_charge_slice_set = bunch.get_slices(uniform_charge_slicer)\n",
      "print bunch._slice_sets\n",
      "uniform_bin_slice_set = bunch.get_slices(uniform_bin_slicer)\n",
      "uniform_charge_slice_set = bunch.get_slices(uniform_charge_slicer)\n",
      "print bunch._slice_sets\n",
      "\n",
      "bunch.clean_slices()\n",
      "print bunch._slice_sets"
     ],
     "language": "python",
     "metadata": {},
     "outputs": [
      {
       "output_type": "stream",
       "stream": "stdout",
       "text": [
        "{}\n",
        "{<PyHEADTAIL.particles.slicing.UniformChargeSlicer object at 0x7fc1efe20410>: <PyHEADTAIL.particles.slicing.SliceSet object at 0x7fc1efe11ad0>}\n",
        "{<PyHEADTAIL.particles.slicing.UniformChargeSlicer object at 0x7fc1efe20410>: <PyHEADTAIL.particles.slicing.SliceSet object at 0x7fc1efe11ad0>, <PyHEADTAIL.particles.slicing.UniformBinSlicer object at 0x7fc1f0339a50>: <PyHEADTAIL.particles.slicing.SliceSet object at 0x7fc1efe20450>}\n",
        "{}\n"
       ]
      }
     ],
     "prompt_number": 11
    },
    {
     "cell_type": "code",
     "collapsed": false,
     "input": [
      "# Old method update_slices should give RuntimeError.\n",
      "n_slices = 10\n",
      "n_sigma_z = 2\n",
      "\n",
      "clean_bunch(bunch)\n",
      "\n",
      "uniform_charge_slicer = UniformChargeSlicer(n_slices, n_sigma_z)\n",
      "uniform_charge_slicer.update_slices(bunch)"
     ],
     "language": "python",
     "metadata": {},
     "outputs": [
      {
       "ename": "RuntimeError",
       "evalue": "update_slices(beam) no longer exists. Instead, remove all previously recorded SliceSetobjects in the beam via beam.clean_slices() when the longitudinal state of the beam is changed. Concretely: replace slices.update_slices(beam) by beam.clean_slices().The SliceSet objects should be retrieved via beam.get_slices(Slicer) *only*. In this way the beam can memorize previously created slice snapshots. This minimises computation time.",
       "output_type": "pyerr",
       "traceback": [
        "\u001b[0;31m---------------------------------------------------------------------------\u001b[0m\n\u001b[0;31mRuntimeError\u001b[0m                              Traceback (most recent call last)",
        "\u001b[0;32m<ipython-input-12-0b57cb3163e8>\u001b[0m in \u001b[0;36m<module>\u001b[0;34m()\u001b[0m\n\u001b[1;32m      6\u001b[0m \u001b[0;34m\u001b[0m\u001b[0m\n\u001b[1;32m      7\u001b[0m \u001b[0muniform_charge_slicer\u001b[0m \u001b[0;34m=\u001b[0m \u001b[0mUniformChargeSlicer\u001b[0m\u001b[0;34m(\u001b[0m\u001b[0mn_slices\u001b[0m\u001b[0;34m,\u001b[0m \u001b[0mn_sigma_z\u001b[0m\u001b[0;34m)\u001b[0m\u001b[0;34m\u001b[0m\u001b[0m\n\u001b[0;32m----> 8\u001b[0;31m \u001b[0muniform_charge_slicer\u001b[0m\u001b[0;34m.\u001b[0m\u001b[0mupdate_slices\u001b[0m\u001b[0;34m(\u001b[0m\u001b[0mbunch\u001b[0m\u001b[0;34m)\u001b[0m\u001b[0;34m\u001b[0m\u001b[0m\n\u001b[0m",
        "\u001b[0;32m/home/oeftiger/cern/git/PyHEADTAIL-new/PyHEADTAIL/particles/slicing.py\u001b[0m in \u001b[0;36mupdate_slices\u001b[0;34m(self, beam)\u001b[0m\n\u001b[1;32m    306\u001b[0m                            \u001b[0;34m'In this way the beam can memorize previously '\u001b[0m \u001b[0;34m+\u001b[0m\u001b[0;34m\u001b[0m\u001b[0m\n\u001b[1;32m    307\u001b[0m                            \u001b[0;34m'created slice snapshots. This minimises '\u001b[0m \u001b[0;34m+\u001b[0m\u001b[0;34m\u001b[0m\u001b[0m\n\u001b[0;32m--> 308\u001b[0;31m                            'computation time.')\n\u001b[0m\u001b[1;32m    309\u001b[0m \u001b[0;34m\u001b[0m\u001b[0m\n\u001b[1;32m    310\u001b[0m \u001b[0;32mclass\u001b[0m \u001b[0mUniformBinSlicer\u001b[0m\u001b[0;34m(\u001b[0m\u001b[0mSlicer\u001b[0m\u001b[0;34m)\u001b[0m\u001b[0;34m:\u001b[0m\u001b[0;34m\u001b[0m\u001b[0m\n",
        "\u001b[0;31mRuntimeError\u001b[0m: update_slices(beam) no longer exists. Instead, remove all previously recorded SliceSetobjects in the beam via beam.clean_slices() when the longitudinal state of the beam is changed. Concretely: replace slices.update_slices(beam) by beam.clean_slices().The SliceSet objects should be retrieved via beam.get_slices(Slicer) *only*. In this way the beam can memorize previously created slice snapshots. This minimises computation time."
       ]
      }
     ],
     "prompt_number": 12
    },
    {
     "cell_type": "code",
     "collapsed": false,
     "input": [
      "# VISUAL CHECKS FOR DIFFERENT SLICER CONFIGURATIONS."
     ],
     "language": "python",
     "metadata": {},
     "outputs": [],
     "prompt_number": 13
    },
    {
     "cell_type": "code",
     "collapsed": false,
     "input": [
      "# CASE I\n",
      "# UniformBinSlicer, no longitudinal cut.\n",
      "n_slices = 10\n",
      "n_sigma_z = None\n",
      "uniform_bin_slicer = UniformBinSlicer(n_slices, n_sigma_z)\n",
      "\n",
      "clean_bunch(bunch)\n",
      "\n",
      "print 'bunch._slice_sets', bunch._slice_sets\n",
      "\n",
      "# Request slice_set from bunch with the uniform_bin_slicer config.\n",
      "uniform_bin_slice_set = bunch.get_slices(uniform_bin_slicer)\n",
      "print 'bunch._slice_sets', bunch._slice_sets\n",
      "\n",
      "plot_results_uniform_bin(bunch, uniform_bin_slice_set)"
     ],
     "language": "python",
     "metadata": {},
     "outputs": [
      {
       "output_type": "stream",
       "stream": "stdout",
       "text": [
        "bunch._slice_sets {}\n",
        "bunch._slice_sets {<PyHEADTAIL.particles.slicing.UniformBinSlicer object at 0x7fc1f0339690>: <PyHEADTAIL.particles.slicing.SliceSet object at 0x7fc1f03396d0>}\n"
       ]
      }
     ],
     "prompt_number": 14
    },
    {
     "cell_type": "code",
     "collapsed": false,
     "input": [
      "# CASE II\n",
      "# UniformBinSlicer, n_sigma_z = 1\n",
      "n_slices = 10\n",
      "n_sigma_z = 1\n",
      "uniform_bin_slicer = UniformBinSlicer(n_slices, n_sigma_z)\n",
      "\n",
      "clean_bunch(bunch)\n",
      "\n",
      "print 'bunch._slice_sets', bunch._slice_sets\n",
      "\n",
      "# Request slice_set from bunch with the uniform_bin_slicer config.\n",
      "uniform_bin_slice_set = bunch.get_slices(uniform_bin_slicer)\n",
      "print 'bunch._slice_sets', bunch._slice_sets\n",
      "\n",
      "plot_results_uniform_bin(bunch, uniform_bin_slice_set)"
     ],
     "language": "python",
     "metadata": {},
     "outputs": [
      {
       "output_type": "stream",
       "stream": "stdout",
       "text": [
        "bunch._slice_sets {}\n",
        "bunch._slice_sets {<PyHEADTAIL.particles.slicing.UniformBinSlicer object at 0x7fc1efd6d410>: <PyHEADTAIL.particles.slicing.SliceSet object at 0x7fc1f0339690>}\n"
       ]
      }
     ],
     "prompt_number": 15
    },
    {
     "cell_type": "code",
     "collapsed": false,
     "input": [
      "# CASE II b.\n",
      "# UniformBinSlicer, set z_cuts\n",
      "n_slices = 10\n",
      "z_cuts = (-0.05, 0.15)\n",
      "uniform_bin_slicer = UniformBinSlicer(n_slices, z_cuts=z_cuts)\n",
      "\n",
      "clean_bunch(bunch)\n",
      "\n",
      "print 'bunch._slice_sets', bunch._slice_sets\n",
      "\n",
      "# Request slice_set from bunch with the uniform_bin_slicer config.\n",
      "uniform_bin_slice_set = bunch.get_slices(uniform_bin_slicer)\n",
      "print 'bunch._slice_sets', bunch._slice_sets\n",
      "\n",
      "plot_results_uniform_bin(bunch, uniform_bin_slice_set)"
     ],
     "language": "python",
     "metadata": {},
     "outputs": [
      {
       "output_type": "stream",
       "stream": "stdout",
       "text": [
        "bunch._slice_sets {}\n",
        "bunch._slice_sets {<PyHEADTAIL.particles.slicing.UniformBinSlicer object at 0x7fc1ee77ed90>: <PyHEADTAIL.particles.slicing.SliceSet object at 0x7fc1ee77ee10>}\n"
       ]
      }
     ],
     "prompt_number": 16
    },
    {
     "cell_type": "code",
     "collapsed": false,
     "input": [
      "# CASE II c.\n",
      "# UniformBinSlicer, set z_cuts and n_sigma_z (THIS SHOULD FAIL).\n",
      "n_slices = 10\n",
      "z_cuts = (-0.05, 0.1)\n",
      "n_sigma_z = 2\n",
      "uniform_bin_slicer = UniformBinSlicer(n_slices, n_sigma_z=n_sigma_z, z_cuts=z_cuts)"
     ],
     "language": "python",
     "metadata": {},
     "outputs": [
      {
       "ename": "ValueError",
       "evalue": "Both arguments n_sigma_z and z_cuts are given while only one is accepted!",
       "output_type": "pyerr",
       "traceback": [
        "\u001b[0;31m---------------------------------------------------------------------------\u001b[0m\n\u001b[0;31mValueError\u001b[0m                                Traceback (most recent call last)",
        "\u001b[0;32m<ipython-input-17-14fcaa95864c>\u001b[0m in \u001b[0;36m<module>\u001b[0;34m()\u001b[0m\n\u001b[1;32m      4\u001b[0m \u001b[0mz_cuts\u001b[0m \u001b[0;34m=\u001b[0m \u001b[0;34m(\u001b[0m\u001b[0;34m-\u001b[0m\u001b[0;36m0.05\u001b[0m\u001b[0;34m,\u001b[0m \u001b[0;36m0.1\u001b[0m\u001b[0;34m)\u001b[0m\u001b[0;34m\u001b[0m\u001b[0m\n\u001b[1;32m      5\u001b[0m \u001b[0mn_sigma_z\u001b[0m \u001b[0;34m=\u001b[0m \u001b[0;36m2\u001b[0m\u001b[0;34m\u001b[0m\u001b[0m\n\u001b[0;32m----> 6\u001b[0;31m \u001b[0muniform_bin_slicer\u001b[0m \u001b[0;34m=\u001b[0m \u001b[0mUniformBinSlicer\u001b[0m\u001b[0;34m(\u001b[0m\u001b[0mn_slices\u001b[0m\u001b[0;34m,\u001b[0m \u001b[0mn_sigma_z\u001b[0m\u001b[0;34m=\u001b[0m\u001b[0mn_sigma_z\u001b[0m\u001b[0;34m,\u001b[0m \u001b[0mz_cuts\u001b[0m\u001b[0;34m=\u001b[0m\u001b[0mz_cuts\u001b[0m\u001b[0;34m)\u001b[0m\u001b[0;34m\u001b[0m\u001b[0m\n\u001b[0m",
        "\u001b[0;32m/home/oeftiger/cern/git/PyHEADTAIL-new/PyHEADTAIL/particles/slicing.py\u001b[0m in \u001b[0;36m__init__\u001b[0;34m(self, n_slices, n_sigma_z, z_cuts)\u001b[0m\n\u001b[1;32m    320\u001b[0m         \u001b[0;32mif\u001b[0m \u001b[0mn_sigma_z\u001b[0m \u001b[0;32mand\u001b[0m \u001b[0mz_cuts\u001b[0m\u001b[0;34m:\u001b[0m\u001b[0;34m\u001b[0m\u001b[0m\n\u001b[1;32m    321\u001b[0m             raise ValueError(\"Both arguments n_sigma_z and z_cuts are\" +\n\u001b[0;32m--> 322\u001b[0;31m                              \" given while only one is accepted!\")\n\u001b[0m\u001b[1;32m    323\u001b[0m         \u001b[0mmode\u001b[0m \u001b[0;34m=\u001b[0m \u001b[0;34m'uniform_bin'\u001b[0m\u001b[0;34m\u001b[0m\u001b[0m\n\u001b[1;32m    324\u001b[0m         \u001b[0mself\u001b[0m\u001b[0;34m.\u001b[0m\u001b[0mconfig\u001b[0m \u001b[0;34m=\u001b[0m \u001b[0;34m(\u001b[0m\u001b[0mmode\u001b[0m\u001b[0;34m,\u001b[0m \u001b[0mn_slices\u001b[0m\u001b[0;34m,\u001b[0m \u001b[0mn_sigma_z\u001b[0m\u001b[0;34m,\u001b[0m \u001b[0mz_cuts\u001b[0m\u001b[0;34m)\u001b[0m\u001b[0;34m\u001b[0m\u001b[0m\n",
        "\u001b[0;31mValueError\u001b[0m: Both arguments n_sigma_z and z_cuts are given while only one is accepted!"
       ]
      }
     ],
     "prompt_number": 17
    },
    {
     "cell_type": "code",
     "collapsed": false,
     "input": [
      "# CASE III\n",
      "# UniformChargeSlicer, no longitudinal cut.\n",
      "n_slices = 10\n",
      "n_sigma_z = None\n",
      "uniform_charge_slicer = UniformChargeSlicer(n_slices, n_sigma_z)\n",
      "\n",
      "clean_bunch(bunch)\n",
      "\n",
      "print 'bunch._slice_sets', bunch._slice_sets\n",
      "\n",
      "# Request slice_set from bunch with the uniform_charge_slicer config.\n",
      "uniform_charge_slice_set = bunch.get_slices(uniform_charge_slicer)\n",
      "print 'bunch._slice_sets', bunch._slice_sets\n",
      "\n",
      "plot_results_uniform_charge(bunch, uniform_charge_slice_set)"
     ],
     "language": "python",
     "metadata": {},
     "outputs": [
      {
       "output_type": "stream",
       "stream": "stdout",
       "text": [
        "bunch._slice_sets {}\n",
        "bunch._slice_sets {<PyHEADTAIL.particles.slicing.UniformChargeSlicer object at 0x7fc1ee717650>: <PyHEADTAIL.particles.slicing.SliceSet object at 0x7fc1ee7176d0>}\n"
       ]
      }
     ],
     "prompt_number": 18
    },
    {
     "cell_type": "code",
     "collapsed": false,
     "input": [
      "# CASE IV\n",
      "# UniformChargeSlicer, n_sigma_z = 1\n",
      "n_slices = 10\n",
      "n_sigma_z = 1\n",
      "uniform_charge_slicer = UniformChargeSlicer(n_slices, n_sigma_z)\n",
      "\n",
      "clean_bunch(bunch)\n",
      "\n",
      "print 'bunch._slice_sets', bunch._slice_sets\n",
      "\n",
      "# Request slice_set from bunch with the uniform_charge_slicer config.\n",
      "uniform_charge_slice_set = bunch.get_slices(uniform_charge_slicer)\n",
      "print 'bunch._slice_sets', bunch._slice_sets\n",
      "\n",
      "plot_results_uniform_charge(bunch, uniform_charge_slice_set)"
     ],
     "language": "python",
     "metadata": {},
     "outputs": [
      {
       "output_type": "stream",
       "stream": "stdout",
       "text": [
        "bunch._slice_sets {}\n",
        "bunch._slice_sets {<PyHEADTAIL.particles.slicing.UniformChargeSlicer object at 0x7fc1ee851250>: <PyHEADTAIL.particles.slicing.SliceSet object at 0x7fc1ee8511d0>}\n"
       ]
      }
     ],
     "prompt_number": 19
    },
    {
     "cell_type": "code",
     "collapsed": false,
     "input": [
      "# CASE IV b.\n",
      "# UniformChargeSlicer, set z_cuts\n",
      "n_slices = 10\n",
      "z_cuts = (-0.05, 0.1)\n",
      "uniform_charge_slicer = UniformChargeSlicer(n_slices, z_cuts=z_cuts)\n",
      "\n",
      "clean_bunch(bunch)\n",
      "\n",
      "print 'bunch._slice_sets', bunch._slice_sets\n",
      "\n",
      "# Request slice_set from bunch with the uniform_bin_slicer config.\n",
      "uniform_charge_slice_set = bunch.get_slices(uniform_charge_slicer)\n",
      "print 'bunch._slice_sets', bunch._slice_sets\n",
      "\n",
      "plot_results_uniform_charge(bunch, uniform_charge_slice_set)"
     ],
     "language": "python",
     "metadata": {},
     "outputs": [
      {
       "output_type": "stream",
       "stream": "stdout",
       "text": [
        "bunch._slice_sets {}\n",
        "bunch._slice_sets {<PyHEADTAIL.particles.slicing.UniformChargeSlicer object at 0x7fc1ee9037d0>: <PyHEADTAIL.particles.slicing.SliceSet object at 0x7fc1ee903810>}\n"
       ]
      }
     ],
     "prompt_number": 20
    },
    {
     "cell_type": "code",
     "collapsed": false,
     "input": [
      "# CASE IV c.\n",
      "# UniformChargeSlicer, set z_cuts and n_sigma_z (THIS SHOULD FAIL).\n",
      "n_slices = 10\n",
      "z_cuts = (-0.05, 0.1)\n",
      "n_sigma_z = 2\n",
      "uniform_charge_slicer = UniformChargeSlicer(n_slices, n_sigma_z=n_sigma_z, z_cuts=z_cuts)"
     ],
     "language": "python",
     "metadata": {},
     "outputs": [
      {
       "ename": "ValueError",
       "evalue": "Both arguments n_sigma_z and z_cuts are given while only one is accepted!",
       "output_type": "pyerr",
       "traceback": [
        "\u001b[0;31m---------------------------------------------------------------------------\u001b[0m\n\u001b[0;31mValueError\u001b[0m                                Traceback (most recent call last)",
        "\u001b[0;32m<ipython-input-21-43aca7726807>\u001b[0m in \u001b[0;36m<module>\u001b[0;34m()\u001b[0m\n\u001b[1;32m      4\u001b[0m \u001b[0mz_cuts\u001b[0m \u001b[0;34m=\u001b[0m \u001b[0;34m(\u001b[0m\u001b[0;34m-\u001b[0m\u001b[0;36m0.05\u001b[0m\u001b[0;34m,\u001b[0m \u001b[0;36m0.1\u001b[0m\u001b[0;34m)\u001b[0m\u001b[0;34m\u001b[0m\u001b[0m\n\u001b[1;32m      5\u001b[0m \u001b[0mn_sigma_z\u001b[0m \u001b[0;34m=\u001b[0m \u001b[0;36m2\u001b[0m\u001b[0;34m\u001b[0m\u001b[0m\n\u001b[0;32m----> 6\u001b[0;31m \u001b[0muniform_charge_slicer\u001b[0m \u001b[0;34m=\u001b[0m \u001b[0mUniformChargeSlicer\u001b[0m\u001b[0;34m(\u001b[0m\u001b[0mn_slices\u001b[0m\u001b[0;34m,\u001b[0m \u001b[0mn_sigma_z\u001b[0m\u001b[0;34m=\u001b[0m\u001b[0mn_sigma_z\u001b[0m\u001b[0;34m,\u001b[0m \u001b[0mz_cuts\u001b[0m\u001b[0;34m=\u001b[0m\u001b[0mz_cuts\u001b[0m\u001b[0;34m)\u001b[0m\u001b[0;34m\u001b[0m\u001b[0m\n\u001b[0m",
        "\u001b[0;32m/home/oeftiger/cern/git/PyHEADTAIL-new/PyHEADTAIL/particles/slicing.py\u001b[0m in \u001b[0;36m__init__\u001b[0;34m(self, n_slices, n_sigma_z, z_cuts)\u001b[0m\n\u001b[1;32m    353\u001b[0m         \u001b[0;32mif\u001b[0m \u001b[0mn_sigma_z\u001b[0m \u001b[0;32mand\u001b[0m \u001b[0mz_cuts\u001b[0m\u001b[0;34m:\u001b[0m\u001b[0;34m\u001b[0m\u001b[0m\n\u001b[1;32m    354\u001b[0m             raise ValueError(\"Both arguments n_sigma_z and z_cuts are\" +\n\u001b[0;32m--> 355\u001b[0;31m                              \" given while only one is accepted!\")\n\u001b[0m\u001b[1;32m    356\u001b[0m         \u001b[0mmode\u001b[0m \u001b[0;34m=\u001b[0m \u001b[0;34m'uniform_charge'\u001b[0m\u001b[0;34m\u001b[0m\u001b[0m\n\u001b[1;32m    357\u001b[0m         \u001b[0mself\u001b[0m\u001b[0;34m.\u001b[0m\u001b[0mconfig\u001b[0m \u001b[0;34m=\u001b[0m \u001b[0;34m(\u001b[0m\u001b[0mmode\u001b[0m\u001b[0;34m,\u001b[0m \u001b[0mn_slices\u001b[0m\u001b[0;34m,\u001b[0m \u001b[0mn_sigma_z\u001b[0m\u001b[0;34m,\u001b[0m \u001b[0mz_cuts\u001b[0m\u001b[0;34m)\u001b[0m\u001b[0;34m\u001b[0m\u001b[0m\n",
        "\u001b[0;31mValueError\u001b[0m: Both arguments n_sigma_z and z_cuts are given while only one is accepted!"
       ]
      }
     ],
     "prompt_number": 21
    },
    {
     "cell_type": "code",
     "collapsed": false,
     "input": [],
     "language": "python",
     "metadata": {},
     "outputs": []
    }
   ],
   "metadata": {}
  }
 ]
}